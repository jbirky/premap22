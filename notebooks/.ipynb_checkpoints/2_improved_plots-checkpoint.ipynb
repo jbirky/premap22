{
 "cells": [
  {
   "cell_type": "code",
   "execution_count": 1,
   "id": "bc476cff-1819-4468-b074-f8193eb97c52",
   "metadata": {},
   "outputs": [],
   "source": [
    "import numpy as np\n",
    "import pandas as pd\n",
    "import lightkurve as lk\n",
    "import os\n",
    "import tqdm\n",
    "\n",
    "import matplotlib.pyplot as plt\n",
    "from matplotlib.ticker import AutoMinorLocator\n",
    "from matplotlib import rc\n",
    "rc('font', **{'family': 'serif', 'serif': ['Computer Modern']})\n",
    "rc('text', usetex=True)\n",
    "rc('xtick', labelsize=20)\n",
    "rc('ytick', labelsize=20)\n",
    "rc('axes', facecolor='white')"
   ]
  },
  {
   "cell_type": "code",
   "execution_count": 2,
   "id": "1d23fcec-b27d-46eb-8466-bf46d086139a",
   "metadata": {},
   "outputs": [],
   "source": [
    "kep = pd.read_csv(\"../tables/kepler_sample_classified.csv\")\n",
    "# tess = pd.read_csv(\"../tables/tess_sample_unclassified.csv\")\n",
    "tess = pd.read_csv(\"../tables/tess_feature_predicted_classifications.csv\")"
   ]
  },
  {
   "cell_type": "code",
   "execution_count": 3,
   "id": "8d58f347-5cdf-4482-8474-a345140fb677",
   "metadata": {},
   "outputs": [],
   "source": [
    "# Load in light curve data for both Kepler and TESS\n",
    "def load_lc(kic, survey='kepler'):\n",
    "    if survey == 'kepler':\n",
    "        loaded = np.load(f\"../lurie_lc/KIC{str(kic)}.npz\")\n",
    "    elif survey == 'tess':\n",
    "        loaded = np.load(f\"../tess_lc/TIC{str(kic)}.npz\")\n",
    "    lc = lk.LightCurve(time=loaded['time'], flux=loaded['flux'], flux_err=loaded['flux_err']).remove_nans()\n",
    "    return lc\n",
    "\n",
    "# Plot a lightcurve \n",
    "def plot_lightkurve(surv, obj_id, st_class, orb_period, maxDiff, legend_loc=\"lower right\"):\n",
    "    \n",
    "    lc = load_lc(obj_id, survey=surv)\n",
    "    \n",
    "    # Sorts the array to fix issues with curve going back and forth at some points\n",
    "    lc.time.value.sort()\n",
    "    \n",
    "    # When there is a gap in observation data, shift all data after that point backwards\n",
    "    # Difference is in multiples of the orbital period and it can only be shifted in multiples of the orbital period\n",
    "    offset = 0\n",
    "    diff = np.diff(lc.time.value)\n",
    "    for i in range(len(lc.time.value)):\n",
    "        if i == 0: continue\n",
    "        if diff[i - 1] >= maxDiff * orb_period:\n",
    "            offset += diff[i - 1] - (diff[i - 1] % orb_period)\n",
    "        lc.time.value[i] -= offset\n",
    "\n",
    "    p1 = np.percentile(lc.flux.value, 1)\n",
    "    p2 = np.percentile(lc.flux.value, 99)\n",
    "    sd = np.std(lc.flux.value)\n",
    "    upper_margin = 3\n",
    "    lower_margin = 7\n",
    "        \n",
    "    # Plot the lightcurve without folding applied\n",
    "    fig, ax = plt.subplots(3, 1, figsize=[16,16])\n",
    "    plt.subplots_adjust(hspace=0.5)\n",
    "    \n",
    "    ax[0].plot(lc.time.value, lc.flux.value, color='k', linewidth=1, label=f\"OBJ ID: {obj_id}\")\n",
    "    ax[0].set_xlabel(\"Time [days]\", fontsize=25)\n",
    "    ax[0].set_ylabel(\"Flux\", fontsize=25)\n",
    "    ax[0].set_title(\"Raw Lightcurve\", fontsize=25)\n",
    "    ax[0].set_ylim(p1-(lower_margin*sd), p2+(upper_margin*sd))\n",
    "    ax[0].set_xlim(min(lc.time.value), max(lc.time.value))\n",
    "    ax[0].legend(loc=legend_loc, fontsize=25)\n",
    "\n",
    "    # Plot the folded version of the light curve\n",
    "    lcf = lc.fold(period=orb_period)\n",
    "    ax[1].plot(lcf.time.value, lcf.flux.value, color='k', linewidth=1, label=f\"Class: {st_class}\")\n",
    "    ax[1].set_xlabel(\"Time [days]\", fontsize=25)\n",
    "    ax[1].set_ylabel(\"Flux\", fontsize=25)\n",
    "    ax[1].set_title(\"Folded\", fontsize=25)\n",
    "    ax[1].set_ylim(p1-(lower_margin*sd), p2+(upper_margin*sd))\n",
    "    ax[1].set_xlim(min(lcf.time.value), max(lcf.time.value))\n",
    "    ax[1].legend(loc=legend_loc, fontsize=25)\n",
    "    \n",
    "    # Plot just one period\n",
    "    ax[2].set_title(\"Single Period\", fontsize=25)\n",
    "    ax[2].plot(lc.time.value, lc.flux.value, color='k', linewidth=1, label=f\"Period: {str(orb_period)}\")\n",
    "    ax[2].set_xlabel(\"Time [days]\", fontsize=25)\n",
    "    ax[2].set_ylabel(\"Flux\", fontsize=25)\n",
    "    ax[2].set_ylim(p1-(lower_margin*sd), p2+(upper_margin*sd))\n",
    "    ax[2].set_xlim(min(lc.time.value), min(lc.time.value)+2*orb_period)\n",
    "    ax[2].legend(loc=legend_loc, fontsize=25)\n",
    "    plt.close()\n",
    "    \n",
    "    return fig"
   ]
  },
  {
   "cell_type": "code",
   "execution_count": null,
   "id": "0b787da4-6845-4bb7-8b8e-c9e5352165ba",
   "metadata": {},
   "outputs": [
    {
     "name": "stderr",
     "output_type": "stream",
     "text": [
      " 21%|█████████████▏                                                 | 476/2272 [02:32<1:03:29,  2.12s/it]"
     ]
    },
    {
     "name": "stdout",
     "output_type": "stream",
     "text": [
      "5285607\n"
     ]
    },
    {
     "name": "stderr",
     "output_type": "stream",
     "text": [
      " 21%|█████████████▌                                                 | 487/2272 [02:57<1:24:32,  2.84s/it]"
     ]
    },
    {
     "name": "stdout",
     "output_type": "stream",
     "text": [
      "5306862\n",
      "5308778\n"
     ]
    },
    {
     "name": "stderr",
     "output_type": "stream",
     "text": [
      " 23%|██████████████▍                                                | 520/2272 [04:12<1:21:30,  2.79s/it]"
     ]
    },
    {
     "name": "stdout",
     "output_type": "stream",
     "text": [
      "5450814\n",
      "5456023\n",
      "5460835\n"
     ]
    },
    {
     "name": "stderr",
     "output_type": "stream",
     "text": [
      " 23%|██████████████▉                                                  | 524/2272 [04:13<35:14,  1.21s/it]"
     ]
    },
    {
     "name": "stdout",
     "output_type": "stream",
     "text": [
      "5462901\n"
     ]
    },
    {
     "name": "stderr",
     "output_type": "stream",
     "text": [
      " 23%|██████████████▋                                                | 530/2272 [04:28<1:05:43,  2.26s/it]"
     ]
    }
   ],
   "source": [
    "for ii in tqdm.tqdm(range(len(kep))):\n",
    "    try:\n",
    "        obj_id = kep['KIC'][ii]\n",
    "        st_class = kep['Class'][ii]\n",
    "        orb_period = kep['Porb'][ii]\n",
    "        maxDiff = 10\n",
    "        \n",
    "        directory = f\"../kepler_plots/{st_class}/\"\n",
    "        if not os.path.exists(directory):\n",
    "            os.mkdir(directory)\n",
    "        if not os.path.exists(directory + f\"KIC{obj_id}.png\"):\n",
    "            fig = plot_lightkurve(\"kepler\", obj_id, st_class, orb_period, maxDiff, legend_loc=\"lower right\")\n",
    "            fig.savefig(directory + f\"KIC{obj_id}.png\")\n",
    "    except:\n",
    "        print(obj_id)"
   ]
  },
  {
   "cell_type": "code",
   "execution_count": null,
   "id": "a01493e4-9b19-406c-b132-25970e235e2a",
   "metadata": {},
   "outputs": [
    {
     "name": "stderr",
     "output_type": "stream",
     "text": [
      " 14%|████████▉                                                      | 528/3712 [07:39<2:31:48,  2.86s/it]"
     ]
    }
   ],
   "source": [
    "for ii in tqdm.tqdm(range(len(tess))):\n",
    "    try:\n",
    "        obj_id = tess['TIC'][ii]\n",
    "        st_class = tess['predicted_class'][ii]\n",
    "        orb_period = tess['period_x'][ii]\n",
    "        maxDiff = 10\n",
    "\n",
    "        directory = f\"../tess_plots/{st_class}/\"\n",
    "        if not os.path.exists(directory):\n",
    "            os.mkdir(directory)\n",
    "        if not os.path.exists(directory + f\"TIC{obj_id}.png\"):\n",
    "            fig = plot_lightkurve(\"tess\", obj_id, st_class, orb_period, maxDiff, legend_loc=\"lower right\")\n",
    "            fig.savefig(directory + f\"TIC{obj_id}.png\")\n",
    "    except:\n",
    "        print(obj_id)"
   ]
  },
  {
   "cell_type": "code",
   "execution_count": 7,
   "id": "4b84f3e9-b7fc-4d76-a5c0-d705cb7f8406",
   "metadata": {},
   "outputs": [
    {
     "data": {
      "text/plain": [
       "Index(['Unnamed: 0', 'Unnamed: 0_x', 'amplitude',\n",
       "       'flux_percentile_ratio_mid20', 'flux_percentile_ratio_mid35',\n",
       "       'flux_percentile_ratio_mid50', 'flux_percentile_ratio_mid65',\n",
       "       'flux_percentile_ratio_mid80', 'percent_difference_flux_percentile',\n",
       "       'percent_beyond_1_std', 'skew', 'std', 'stetson_j', 'stetson_k',\n",
       "       'weighted_average', 'median_absolute_deviation', 'period_fast', 'KIC',\n",
       "       'TIC', 'morph_x', 'period_x', 'BP-RP', 'Gmag', 'RUWE',\n",
       "       'predicted_class', 'Unnamed: 0_y', 'period_y', 'morph_y', 'RA', 'DEC'],\n",
       "      dtype='object')"
      ]
     },
     "execution_count": 7,
     "metadata": {},
     "output_type": "execute_result"
    }
   ],
   "source": [
    "tess.keys()"
   ]
  },
  {
   "cell_type": "code",
   "execution_count": null,
   "id": "7964f41d-da54-4558-9182-90f4ea523033",
   "metadata": {},
   "outputs": [],
   "source": []
  }
 ],
 "metadata": {
  "kernelspec": {
   "display_name": "Python [conda env:.conda-py39] *",
   "language": "python",
   "name": "conda-env-.conda-py39-py"
  },
  "language_info": {
   "codemirror_mode": {
    "name": "ipython",
    "version": 3
   },
   "file_extension": ".py",
   "mimetype": "text/x-python",
   "name": "python",
   "nbconvert_exporter": "python",
   "pygments_lexer": "ipython3",
   "version": "3.9.12"
  }
 },
 "nbformat": 4,
 "nbformat_minor": 5
}
